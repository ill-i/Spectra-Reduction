{
 "cells": [
  {
   "cell_type": "markdown",
   "id": "8ed065b8-8165-4d8a-9c33-d235ebb7a0b7",
   "metadata": {},
   "source": [
    "# Here we have rewritten PREOB() function.\n",
    "\n",
    "$\\textbf{Short algorithm:}$ open file $\\to$ use formula $\\to$ calculate mean $\\to$ save file \n",
    "\n",
    "Additionaly, we plotted , пожалуйста,graphics. "
   ]
  },
  {
   "cell_type": "markdown",
   "id": "4dc4dfae-0312-4abb-ac1e-c83069108d7c",
   "metadata": {},
   "source": [
    "# Libraries"
   ]
  },
  {
   "cell_type": "code",
   "execution_count": null,
   "id": "e0216bc0-2ede-4a0a-bce5-0ecab4033638",
   "metadata": {},
   "outputs": [],
   "source": [
    "import numpy as np\n",
    "import astropy\n",
    "from astropy.io import fits\n",
    "import matplotlib.pyplot as plt\n",
    "import cv2 #!pip3 install opencv-python\n",
    "from scipy import signal\n",
    "from scipy.signal import find_peaks"
   ]
  },
  {
   "cell_type": "markdown",
   "id": "79560469-966d-4e29-b62d-4de7b186e535",
   "metadata": {},
   "source": [
    "# Open txt files\n",
    "\n",
    "Open file $\\to$ make a list with data $\\to$ make an array from list"
   ]
  },
  {
   "cell_type": "code",
   "execution_count": null,
   "id": "07efece3-5428-47dc-8c2e-155461cf218c",
   "metadata": {},
   "outputs": [],
   "source": [
    "# file_call1 = '/home/adel/Dropbox/QC2Python(spectrums)/Files/call1.txt'\n",
    "file_call1 = 'Files/call1.txt'\n",
    "\n",
    "data_call1 = [] #to work with data from txt file we should write it in array, so here we create an empty list\n",
    "with open(file_call1) as file:\n",
    "    next(file)\n",
    "    for line in file:\n",
    "        row = line.split()\n",
    "        row = [int(x) for x in row]\n",
    "        data_call1.append(row) #add data from txt the list"
   ]
  },
  {
   "cell_type": "code",
   "execution_count": null,
   "id": "4802bcbc-cbb5-4726-b7a4-6ad81c818ec9",
   "metadata": {},
   "outputs": [],
   "source": [
    "# file_call2 = '/home/adel/Dropbox/QC2Python(spectrums)/Files/call2.txt'\n",
    "file_call2 = 'Files/call2.txt'\n",
    "\n",
    "data_call2 = [] #to work with data from txt file we should write it in array, so here we create an empty list \n",
    "with open(file_call2) as file:\n",
    "    next(file)\n",
    "    for line in file:\n",
    "        row = line.split()\n",
    "        row = [int(x) for x in row]\n",
    "        data_call2.append(row) #add data from txt to the list"
   ]
  },
  {
   "cell_type": "code",
   "execution_count": null,
   "id": "be2b92ad-b1af-4036-83a1-e256d7b7556e",
   "metadata": {},
   "outputs": [],
   "source": [
    "# file_call3 = '/home/adel/Dropbox/QC2Python(spectrums)/Files/call3.txt'\n",
    "file_call3 = 'Files/call3.txt'\n",
    "\n",
    "\n",
    "data_call3 = [] #to work with data from txt file we should write it in array, so here we create an empty list\n",
    "with open(file_call3) as file:\n",
    "    next(file)\n",
    "    for line in file:\n",
    "        row = line.split()\n",
    "        row = [int(x) for x in row]\n",
    "        data_call3.append(row) #add data from txt to the list"
   ]
  },
  {
   "cell_type": "code",
   "execution_count": null,
   "id": "d6e145e5-f16d-46aa-befc-91b7c7a9f44b",
   "metadata": {},
   "outputs": [],
   "source": [
    "# file_call4 = '/home/adel/Dropbox/QC2Python(spectrums)/Files/call4.txt'\n",
    "file_call4 = 'Files/call4.txt'\n",
    "\n",
    "data_call4 = [] #to work with data from txt file we should write it in array, so here we create an empty list \n",
    "with open(file_call4) as file:\n",
    "    next(file)\n",
    "    for line in file:\n",
    "        row = line.split()\n",
    "        row = [int(x) for x in row]\n",
    "        data_call4.append(row) #add data from txt to the list"
   ]
  },
  {
   "cell_type": "code",
   "execution_count": null,
   "id": "b658570a-9392-4bb5-b93f-8cdd4ff4e784",
   "metadata": {
    "tags": []
   },
   "outputs": [],
   "source": [
    "o_call1 = np.array(data_call1) #make an array from list\n",
    "o_call2 = np.array(data_call2) #make an array from list\n",
    "o_call3 = np.array(data_call3) #make an array from list\n",
    "o_call4 = np.array(data_call4) #make an array from list"
   ]
  },
  {
   "cell_type": "markdown",
   "id": "efa8fac3-20fa-43b5-b1eb-b4840b13fbb6",
   "metadata": {},
   "source": [
    "### Save array as image"
   ]
  },
  {
   "cell_type": "code",
   "execution_count": null,
   "id": "5e5986cf-ff6c-4177-9d68-35fafc20e5e0",
   "metadata": {},
   "outputs": [],
   "source": [
    "plt.imsave('pic_1', o_call1) #сохраняем массив из текста в картинку (чтобы на всякие случай проверить поворот картинки)\n",
    "plt.imsave('pic_2', o_call2) #сохраняем массив из текста в картинку (чтобы на всякие случай проверить поворот картинки)\n",
    "plt.imsave('pic_3', o_call3) #сохраняем массив из текста в картинку (чтобы на всякие случай проверить поворот картинки)\n",
    "plt.imsave('pic_4', o_call4) #сохраняем массив из текста в картинку (чтобы на всякие случай проверить поворот картинки)"
   ]
  },
  {
   "cell_type": "markdown",
   "id": "a1193fbe-4f42-437d-81ff-52cedc187e65",
   "metadata": {},
   "source": [
    "# Rotate and crop image"
   ]
  },
  {
   "cell_type": "code",
   "execution_count": null,
   "id": "dc6bfb3d-0492-41c3-9cc0-f2ecdbdf9932",
   "metadata": {},
   "outputs": [],
   "source": [
    "def subimage(name_file, center, theta, width, height):\n",
    "    ''' \n",
    "    Rotates OpenCV image around center with angle theta (in deg)\n",
    "    then crops the image according to width and height.\n",
    "    '''\n",
    "    path = os.getcwd()#для просмотра корневой дирректории\n",
    "    image = cv2.imread(f'{path}/{name_file}') #открываем картинку (не повёрнута, не обрезана)\n",
    "    \n",
    "    if center[0]<1 and center[1]<1 and width<1: #проверка на случай если мы работаем в относительных координатах и их пересчёт к абсолютным\n",
    "        center_x = center[0]*image.shape[1]\n",
    "        center_y = center[1]*image.shape[0]\n",
    "        width = width * image.shape[1]\n",
    "        height = height * image.shape[0]\n",
    "        center = (center_x,center_y)\n",
    "    shape = ( image.shape[1], image.shape[0] ) # cv2.warpAffine expects shape in (length, height)\n",
    "    matrix = cv2.getRotationMatrix2D( center=center, angle=theta, scale=1 ) #поворот матрицы вокруг указанного центра\n",
    "    image = cv2.warpAffine(src=image, M=matrix, dsize=shape ) #сохранение повернутого изображения из матрицы\n",
    "\n",
    "    x = int( center[0] - width/2  ) #поиск координаты x слева\n",
    "    y = int( center[1] - height/2 ) # поиск координаты у снизу\n",
    "\n",
    "    image = image[ y:int(y+height), x:int(x+width) ] #обрезка изображения по координатам\n",
    "\n",
    "    cv2.imwrite(f'{path}/{name_file}', image) #path -- путь к корневой дирректории\n",
    "    \n",
    "    #возвращает обрезанное изображение\n",
    "    return image"
   ]
  },
  {
   "cell_type": "code",
   "execution_count": null,
   "id": "d705bac2-e468-40b6-aa33-93d2d79cdef2",
   "metadata": {},
   "outputs": [],
   "source": [
    "image_1 = subimage(\"pic_1\",(0.5,0.6),3.5,0.6,0.2)\n",
    "image_2 = subimage(\"pic_2\",(0.5,0.6),3.5,0.6,0.2)\n",
    "image_3 = subimage(\"pic_3\",(0.5,0.6),3.5,0.6,0.2)\n",
    "image_4 = subimage(\"pic_4\",(0.5,0.6),3.5,0.6,0.2)"
   ]
  },
  {
   "cell_type": "markdown",
   "id": "bc54bcaf-40c2-41b3-80aa-da43dc654786",
   "metadata": {},
   "source": [
    "# Formula for bringing $\\textbf{data to a convenient view}$. PREOB() function\n",
    "\n",
    "# Table $\\to$ row by mean value of coluns\n",
    "\n",
    "$x_i = log_{10}\\dfrac{65536}{x_i}\\times1000$, if we have pixels value range (0,65536)\n",
    "\n",
    "$x_i = log_{10}\\dfrac{257.003921569}{x_i}\\times1000$, if we have pixels value range (0,255)\n",
    "\n",
    "$x_i$ -- pixel value, 65536 -- maximum possible value. \n",
    "\n",
    "We don't want to work with values like 26000 or smth like that, so we divide max pos value on our output value and take $log_{10}$. After that we get values of the order of 3-4. As soon as it too smal values and for axis stretching we multiply our value on 1000."
   ]
  },
  {
   "cell_type": "markdown",
   "id": "7736d995-a408-45df-8a7f-0d355d0eb477",
   "metadata": {},
   "source": [
    "### Function"
   ]
  },
  {
   "cell_type": "code",
   "execution_count": null,
   "id": "6c8f8db0-dbc4-4e19-96fb-28aa3fd8919c",
   "metadata": {},
   "outputs": [],
   "source": [
    "def preob(image):\n",
    "    \"\"\"\n",
    "    function recalculate values and make it more comfortable to vizualization and calculate mean value in each column, \n",
    "    after that it write in one-dementional array \n",
    "    \"\"\"\n",
    "    image = cv2.imread(image)\n",
    "    image = cv2.cvtColor(image, cv2.COLOR_BGR2GRAY)#переводим изображение в черно-белый формат, так как цветное изображение является трехмерным массивом\n",
    "    im_array = np.array(image)# создаем из нее массив \n",
    "    array_log10 = np.log10(257.003921569/im_array) * 1000 #(257.003921569 = 65536/255), also data (смещение запятой)\n",
    "    mean = array_log10.mean(axis=0) #среднее значение по столбцам\n",
    "    #возвращает массив из средних значений\n",
    "    return mean"
   ]
  },
  {
   "cell_type": "markdown",
   "id": "142b2cbc-8bd0-411b-9ce1-b3f8a083b010",
   "metadata": {},
   "source": [
    "### Implementation"
   ]
  },
  {
   "cell_type": "code",
   "execution_count": null,
   "id": "ab9f558c-3dc6-4fd8-8eff-0fdeb2be816e",
   "metadata": {},
   "outputs": [],
   "source": [
    "mean_call1 = preob(image_1)\n",
    "mean_call2 = preob(image_2)\n",
    "mean_call3 = preob(image_3)\n",
    "mean_call4 = preob(image_4)"
   ]
  },
  {
   "cell_type": "markdown",
   "id": "59c619b5-8d55-4799-840b-a79139e90c45",
   "metadata": {},
   "source": [
    "### Save txt with mean values"
   ]
  },
  {
   "cell_type": "code",
   "execution_count": null,
   "id": "ab6fdd27-ab65-4040-8820-656641310133",
   "metadata": {
    "tags": []
   },
   "outputs": [],
   "source": [
    "np.savetxt('Files/call1_mean.txt', mean_call1)\n",
    "np.savetxt('Files/call2_mean.txt', mean_call2)\n",
    "np.savetxt('Files/call3_mean.txt', mean_call3)\n",
    "np.savetxt('Files/call4_mean.txt', mean_call4)"
   ]
  },
  {
   "cell_type": "markdown",
   "id": "e61614af-2a33-4de3-859f-c6c4153fef0f",
   "metadata": {},
   "source": [
    "# Graph"
   ]
  },
  {
   "cell_type": "code",
   "execution_count": null,
   "id": "9e2e1d90-3320-426f-b786-d3ec550c7c80",
   "metadata": {},
   "outputs": [],
   "source": [
    "fig1 = plt.figure(figsize=(8,4),dpi = 100)#(figsize=(14,7),dpi = 200)\n",
    "x = np.arange(1, len(mean_call1) + 1)\n",
    "plt.scatter(x,mean_call1,color = 'orangered', s = 2, alpha = 0.5)\n",
    "plt.title('call1')\n",
    "fig2 = plt.figure(figsize=(8,4),dpi = 100)#(figsize=(14,7),dpi = 200)\n",
    "x = np.arange(1, len(mean_call2) + 1)\n",
    "plt.scatter(x,mean_call2,color = 'orangered', s = 2, alpha = 0.5)\n",
    "plt.title('call2')\n",
    "fig3 = plt.figure(figsize=(8,4),dpi = 100)#(figsize=(14,7),dpi = 200)\n",
    "x = np.arange(1, len(mean_call3) + 1)\n",
    "plt.scatter(x,mean_call3,color = 'orangered', s = 2, alpha = 0.5)\n",
    "plt.title('call3')\n",
    "fig4 = plt.figure(figsize=(8,4),dpi = 100)#(figsize=(14,7),dpi = 200)\n",
    "x = np.arange(1, len(mean_call4) + 1)\n",
    "plt.scatter(x,mean_call4,color = 'orangered', s = 2, alpha = 0.5)\n",
    "plt.title('call4')"
   ]
  },
  {
   "cell_type": "markdown",
   "id": "556b1e85-34e2-417b-b68c-ddf5fe909b94",
   "metadata": {},
   "source": [
    "# Peaks finding"
   ]
  },
  {
   "cell_type": "code",
   "execution_count": null,
   "id": "c2b64109-8036-44b1-afd4-cf4d637d7654",
   "metadata": {},
   "outputs": [],
   "source": [
    "def peaks(mean,order):\n",
    "    \"\"\"\n",
    "    function for searching peaks in array \n",
    "    \"\"\"\n",
    "    peak_indexes = signal.argrelextrema(mean, np.greater, order=order)[0] #индексы пиков \n",
    "    peak_mean =[] # создаем пустой массив для средних значений пиков\n",
    "    for i in range(0,len(mean)):\n",
    "        if i in peak_indexes:\n",
    "            peak_mean.append((mean[i-2]+mean[i-1]+mean[i]+mean[i+1]+mean[i+2])/5) # ищем среднее по пяти рядом стоящих значений\n",
    "    #возвращает позицию/индекс найденного пика и среднее значение по пяти значениям : пик + 2 слева + 2 справа\n",
    "    return peak_indexes,peak_mean"
   ]
  },
  {
   "cell_type": "code",
   "execution_count": null,
   "id": "cf2e8593-515f-4fdf-96af-1a30337eca1e",
   "metadata": {},
   "outputs": [],
   "source": [
    "peak_indexes_1,peak_mean_1 = peaks(mean_call1,order=5)\n",
    "peak_indexes_2,peak_mean_2 = peaks(mean_call2,order=5)\n",
    "peak_indexes_3,peak_mean_3 = peaks(mean_call3,order=5)\n",
    "peak_indexes_4,peak_mean_4 = peaks(mean_call4,order=5)"
   ]
  }
 ],
 "metadata": {
  "kernelspec": {
   "display_name": "Python 3",
   "language": "python",
   "name": "python3"
  },
  "language_info": {
   "codemirror_mode": {
    "name": "ipython",
    "version": 3
   },
   "file_extension": ".py",
   "mimetype": "text/x-python",
   "name": "python",
   "nbconvert_exporter": "python",
   "pygments_lexer": "ipython3",
   "version": "3.8.8"
  }
 },
 "nbformat": 4,
 "nbformat_minor": 5
}
