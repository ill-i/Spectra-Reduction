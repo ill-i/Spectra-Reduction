{
 "cells": [
  {
   "cell_type": "markdown",
   "id": "68cac855-e240-4ce1-ac6a-e60c85e8d9db",
   "metadata": {},
   "source": [
    "# Libraries"
   ]
  },
  {
   "cell_type": "code",
   "execution_count": null,
   "id": "e0216bc0-2ede-4a0a-bce5-0ecab4033638",
   "metadata": {},
   "outputs": [],
   "source": [
    "import numpy as np ###v1.20.3\n",
    "import astropy###v4.3.1\n",
    "from astropy.io import fits\n",
    "import matplotlib.pyplot as plt###v3.4.3\n",
    "import cv2 #!pip3 install opencv-python ###v4.5.5\n",
    "from scipy import signal ### v1.7.1\n",
    "from scipy.signal import find_peaks\n",
    "from astropy.io import fits\n",
    "from PIL import Image###v8.4.0\n",
    "from skimage import io, color###V0.18.3\n",
    "import math\n",
    "from tkinter import *"
   ]
  },
  {
   "cell_type": "markdown",
   "id": "79560469-966d-4e29-b62d-4de7b186e535",
   "metadata": {},
   "source": [
    "# Open txt files\n",
    "\n",
    "Open file $\\to$ make a list with data $\\to$ make an array from list"
   ]
  },
  {
   "cell_type": "code",
   "execution_count": null,
   "id": "fc731080-b7d0-4fe7-8bf4-b9dd163413dd",
   "metadata": {
    "tags": []
   },
   "outputs": [],
   "source": [
    "# file_call1 = '/home/adel/Dropbox/QC2Python(spectrums)/Files/call1.txt'\n",
    "file_call1 = 'Files/call1.txt'\n",
    "\n",
    "data_call1 = [] #to work with data from txt file we should write it in array, so here we create an empty list\n",
    "with open(file_call1) as file:\n",
    "    next(file)\n",
    "    for line in file:\n",
    "        row = line.split()\n",
    "        row = [int(x) for x in row]\n",
    "        data_call1.append(row) #add data from txt the list\n",
    "\n",
    "# file_call2 = '/home/adel/Dropbox/QC2Python(spectrums)/Files/call2.txt'\n",
    "file_call2 = 'Files/call2.txt'\n",
    "\n",
    "data_call2 = [] #to work with data from txt file we should write it in array, so here we create an empty list \n",
    "with open(file_call2) as file:\n",
    "    next(file)\n",
    "    for line in file:\n",
    "        row = line.split()\n",
    "        row = [int(x) for x in row]\n",
    "        data_call2.append(row) #add data from txt to the list\n",
    "\n",
    "# file_call3 = '/home/adel/Dropbox/QC2Python(spectrums)/Files/call3.txt'\n",
    "file_call3 = 'Files/call3.txt'\n",
    "\n",
    "\n",
    "data_call3 = [] #to work with data from txt file we should write it in array, so here we create an empty list\n",
    "with open(file_call3) as file:\n",
    "    next(file)\n",
    "    for line in file:\n",
    "        row = line.split()\n",
    "        row = [int(x) for x in row]\n",
    "        data_call3.append(row) #add data from txt to the list\n",
    "\n",
    "# file_call4 = '/home/adel/Dropbox/QC2Python(spectrums)/Files/call4.txt'\n",
    "file_call4 = 'Files/call4.txt'\n",
    "\n",
    "data_call4 = [] #to work with data from txt file we should write it in array, so here we create an empty list \n",
    "with open(file_call4) as file:\n",
    "    next(file)\n",
    "    for line in file:\n",
    "        row = line.split()\n",
    "        row = [int(x) for x in row]\n",
    "        data_call4.append(row) #add data from txt to the list"
   ]
  },
  {
   "cell_type": "code",
   "execution_count": null,
   "id": "b658570a-9392-4bb5-b93f-8cdd4ff4e784",
   "metadata": {
    "tags": []
   },
   "outputs": [],
   "source": [
    "o_call1 = np.array(data_call1)#*255/65536 #make an array from list\n",
    "o_call2 = np.array(data_call2)#*255/65536 #make an array from list\n",
    "o_call3 = np.array(data_call3)#*255/65536 #make an array from list\n",
    "o_call4 = np.array(data_call4)#*255/65536 #make an array from list"
   ]
  },
  {
   "cell_type": "markdown",
   "id": "efa8fac3-20fa-43b5-b1eb-b4840b13fbb6",
   "metadata": {},
   "source": [
    "### Save array as image"
   ]
  },
  {
   "cell_type": "code",
   "execution_count": null,
   "id": "baa622c7-2545-4d26-8bd8-68f693c69a41",
   "metadata": {},
   "outputs": [],
   "source": [
    "plt.imsave('pic_1.jpg', o_call1) #сохраняем массив из текста в картинку (чтобы на всякие случай проверить поворот картинки)\n",
    "plt.imsave('pic_2.jpg', o_call2) #сохраняем массив из текста в картинку (чтобы на всякие случай проверить поворот картинки)\n",
    "\n",
    "plt.imsave('pic_3.jpg', o_call3) #сохраняем массив из текста в картинку (чтобы на всякие случай проверить поворот картинки)\n",
    "plt.imsave('pic_4.jpg', o_call4) #сохраняем массив из текста в картинку (чтобы на всякие случай проверить поворот картинки)"
   ]
  },
  {
   "cell_type": "markdown",
   "id": "a1193fbe-4f42-437d-81ff-52cedc187e65",
   "metadata": {},
   "source": [
    "# Rotate and crop image"
   ]
  },
  {
   "cell_type": "markdown",
   "id": "51881027-8a44-456d-8b5d-364244907e21",
   "metadata": {},
   "source": [
    "### Formula for bringing $\\textbf{data to a convenient view}$. PREOB() function\n",
    "\n",
    "### Table $\\to$ row by mean value of coluns\n",
    "\n",
    "$x_i = log_{10}\\dfrac{x_max}{x_i}\\times1000$\n",
    "\n",
    "$x_i$ -- pixel value, $x_{max}$ -- maximum possible value. \n",
    "\n",
    "$x_{max}$ = 65536 if we have pixels value range (0,65536) and x_max = 255 if we have pixels value range (0,255)\n",
    "\n",
    "We don't want to work with values like 26000 or smth like that, so we divide max pos value on our output value and take $log_{10}$. After that we get values of the order of 3-4. As soon as it too smal values and for axis stretching we multiply our value on 1000."
   ]
  },
  {
   "cell_type": "code",
   "execution_count": null,
   "id": "dc6bfb3d-0492-41c3-9cc0-f2ecdbdf9932",
   "metadata": {
    "tags": []
   },
   "outputs": [],
   "source": [
    "def subimage_preob(name_file,data, x1,y1,x2,y2,x3,y3,x4,y4): #calib, center, theta, width, height):\n",
    "    ''' \n",
    "    Rotates OpenCV image around center with angle theta (in deg)\n",
    "    then crops the image according to width and height.\n",
    "    '''\n",
    "#     path = os.getcwd()#для просмотра корневой дирректории\n",
    "    lina_color = io.imread(f'{name_file}')\n",
    "    lina_gray = color.rgb2gray(lina_color)\n",
    " #открываем картинку (не повёрнута, не обрезана) # массив файла калибровки (наш o_call)\n",
    "    difr= data/lina_gray\n",
    "    lina_gray = lina_gray*difr\n",
    "    for i in range(0,len(lina_gray)):\n",
    "        for j in range(0,len(lina_gray[i])):\n",
    "            lina_gray[i][j] = int(lina_gray[i][j])\n",
    "            if lina_gray[i][j] != data[i][j]:\n",
    "                lina_gray[i][j] = data[i][j]\n",
    "    polygon_data = ((x1,y1), (x2, y2), (x3, y3), (x4, y4)) \n",
    "    center = centroid(polygon_data) #обращается к фукции centroid\n",
    "    width = np.sqrt((x2-x1)**2+(y2-y1)**2)\n",
    "    height = np.sqrt((x4-x1)**2+(y4-y1)**2)\n",
    "    theta = math.atan2((x1-x2),(y1-y2))\n",
    "    if center[0]<1 and center[1]<1 and width<1: #проверка на случай если мы работаем в относительных координатах и их пересчёт к абсолютным\n",
    "        center_x = int(center[0]*lina_gray.shape[1])\n",
    "        center_y = int(center[1]*lina_gray.shape[0])\n",
    "        width = int(width * lina_gray.shape[1])\n",
    "        height = int(height * lina_gray.shape[0])\n",
    "        center = (center_x,center_y)\n",
    "        \n",
    "    shape = ( lina_gray.shape[1], lina_gray.shape[0] ) # cv2.warpAffine expects shape in (length, height)\n",
    "    matrix = cv2.getRotationMatrix2D( center=center, angle=theta, scale=1 ) #поворот матрицы вокруг указанного центра\n",
    "    lina_gray = cv2.warpAffine(src=lina_gray, M=matrix, dsize=shape ) #сохранение повернутого изображения из матрицы\n",
    "\n",
    "    x = int( center[0] - width/2  ) #поиск координаты x слева\n",
    "    y = int( center[1] - height/2 ) # поиск координаты у снизу\n",
    "\n",
    "    lina_gray = lina_gray[ y:int(y+height), x:int(x+width) ] #обрезка изображения по координатам\n",
    "    \n",
    "    #preob\n",
    "    im_array = lina_gray# создаем из нее массив \n",
    "    array_log10 = np.log10(65536/im_array)*1000 #(257.003921569 = 65536/255), also data (смещение запятой)\n",
    "    mean = array_log10.mean(axis=0) #среднее значение по столбцам\n",
    "    \n",
    "    \n",
    "    plt.imshow(lina_gray) #path -- путь к корневой дирректории\n",
    "    \n",
    "    #возвращает обрезанное изображение\n",
    "    return lina_gray,difr,lina_gray"
   ]
  },
  {
   "cell_type": "code",
   "execution_count": null,
   "id": "7d5ff1fe-0515-4c8f-8d51-8a9a7810426b",
   "metadata": {},
   "outputs": [],
   "source": [
    "def centroid(vertexes):\n",
    "    x_list = [vertex[0] for vertex in vertexes]\n",
    "    y_list = [vertex[1] for vertex in vertexes]\n",
    "    lenth = len(vertexes)\n",
    "    x = sum(x_list) / lenth\n",
    "    y = sum(y_list) / lenth\n",
    "    return(x, y)\n"
   ]
  },
  {
   "cell_type": "code",
   "execution_count": null,
   "id": "c17f4af8-b5ff-44ef-912c-f970dc3b7801",
   "metadata": {},
   "outputs": [],
   "source": [
    "def subimage_preob(name_file,data, x1,y1,x2,y2,x3,y3,x4,y4): #calib, center, theta, width, height):\n",
    "    ''' \n",
    "    Rotates OpenCV image around center with angle theta (in deg)\n",
    "    then crops the image according to width and height.\n",
    "    '''\n",
    "#     path = os.getcwd()#для просмотра корневой дирректории\n",
    "    lina_color = io.imread(f'{name_file}')\n",
    "    lina_gray = color.rgb2gray(lina_color)\n",
    "    tan = (y2-y1)/(x2-x1)\n",
    "    radian = math.atan2((y1-y2),(x1-x2))\n",
    "    theta = radian*180/np.pi\n",
    "    if theta > 90:\n",
    "        theta = 180 - theta\n",
    "    else:\n",
    "        theta = theta\n",
    "    print(theta)\n",
    "    for i in range(0,len(data)):\n",
    "        for j in range(0,len(data[i])):\n",
    "            lina_gray[i][j] = data[i][j]\n",
    "    polygon_data = ((x1,y1), (x2, y2), (x3, y3), (x4, y4)) \n",
    "    center = centroid(polygon_data) #обращается к фукции centroid\n",
    "    width = np.sqrt((x2-x1)**2+(y2-y1)**2)\n",
    "    height = np.sqrt((x4-x1)**2+(y4-y1)**2)\n",
    "    if center[0]<1 and center[1]<1 and width<1: #проверка на случай если мы работаем в относительных координатах и их пересчёт к абсолютным\n",
    "        center_x = int(center[0]*lina_gray.shape[1])\n",
    "        center_y = int(center[1]*lina_gray.shape[0])\n",
    "        width = int(width * lina_gray.shape[1])\n",
    "        height = int(height * lina_gray.shape[0])\n",
    "        center = (center_x,center_y)\n",
    "        \n",
    "    shape = ( data.shape[1], data.shape[0] ) # cv2.warpAffine expects shape in (length, height)\n",
    "    matrix = cv2.getRotationMatrix2D( center=center, angle=theta, scale=1 ) #поворот матрицы вокруг указанного центра\n",
    "    lina_rotated = cv2.warpAffine(src=lina_gray, M=matrix, dsize=shape ) #сохранение повернутого изображения из матрицы\n",
    "\n",
    "    x = int( center[0] - width/2  ) #поиск координаты x слева\n",
    "    y = int( center[1] - height/2 ) # поиск координаты у снизу\n",
    "\n",
    "    lina_croped = lina_rotated[ y:int(y+height), x:int(x+width) ] #обрезка изображения по координатам\n",
    "    \n",
    "    #preob\n",
    "    array_log10 = np.log10(65536/lina_croped)*1000 #(257.003921569 = 65536/255), also data (смещение запятой)\n",
    "    mean = array_log10.mean(axis=0) #среднее значение по столбцам\n",
    "    \n",
    "    \n",
    "    plt.imshow(lina_croped) #path -- путь к корневой дирректории\n",
    "    plt.gca().invert_yaxis()\n",
    "    #возвращает обрезанное изображение\n",
    "    return lina_croped,mean"
   ]
  },
  {
   "cell_type": "code",
   "execution_count": null,
   "id": "be5c880c-0085-4b62-be57-497f3b6ad4ae",
   "metadata": {
    "tags": []
   },
   "outputs": [],
   "source": [
    "x1= int(0.259 * o_call1.shape[1])\n",
    "y1= int(0.648 * o_call1.shape[0])\n",
    "x2= int(0.96 * o_call1.shape[1])\n",
    "y2= int(0.584 * o_call1.shape[0])\n",
    "x3= int(0.9 * o_call1.shape[1])\n",
    "y3= int(0.376 * o_call1.shape[0])\n",
    "x4= int(0.242 * o_call1.shape[1])\n",
    "y4= int(0.44 * o_call1.shape[0])\n",
    "\n",
    "\n",
    "image_1,mean_1= subimage_preob('pic_1.jpg',o_call1,x1,y1,x2,y2,x3,y3,x4,y4)"
   ]
  },
  {
   "cell_type": "code",
   "execution_count": null,
   "id": "a698d6b6-e689-42e2-9628-66997fe9ebc9",
   "metadata": {},
   "outputs": [],
   "source": [
    "x1= int(0.175 * o_call2.shape[1])\n",
    "y1= int(0.647 * o_call2.shape[0])\n",
    "x2= int(0.866 * o_call2.shape[1])\n",
    "y2= int(0.556 * o_call2.shape[0])\n",
    "x3= int(0.835 * o_call2.shape[1])\n",
    "y3= int(0.314 * o_call2.shape[0])\n",
    "x4= int(0.145 * o_call2.shape[1])\n",
    "y4= int(0.405 * o_call2.shape[0])\n",
    "\n",
    "image_2,mean_2 = subimage_preob('pic_2.jpg',o_call2,x1,y1,x2,y2,x3,y3,x4,y4)"
   ]
  },
  {
   "cell_type": "code",
   "execution_count": null,
   "id": "68d95011-a69f-43e8-8604-3f47ce67a358",
   "metadata": {},
   "outputs": [],
   "source": [
    "x1= int(0.173 * o_call3.shape[1])\n",
    "y1= int(0.649 * o_call3.shape[0])\n",
    "x2= int(0.824 * o_call3.shape[1])\n",
    "y2= int(0.589 * o_call3.shape[0])\n",
    "x3= int(0.804 * o_call3.shape[1])\n",
    "y3= int(0.365 * o_call3.shape[0])\n",
    "x4= int(0.153 * o_call3.shape[1])\n",
    "y4= int(0.424 * o_call3.shape[0])\n",
    "\n",
    "image_3,mean_3 = subimage_preob('pic_3.jpg',o_call3,x1,y1,x2,y2,x3,y3,x4,y4)"
   ]
  },
  {
   "cell_type": "code",
   "execution_count": null,
   "id": "39bf7366-5400-4e2f-af2b-34812bfda729",
   "metadata": {},
   "outputs": [],
   "source": [
    "x1= int(0.166 * o_call4.shape[1])\n",
    "y1= int(0.640 * o_call4.shape[0])\n",
    "x2= int(0.8 * o_call4.shape[1])\n",
    "y2= int(0.590 * o_call4.shape[0])\n",
    "x3= int(0.781 * o_call4.shape[1])\n",
    "y3= int(0.378 * o_call4.shape[0])\n",
    "x4= int(0.147 * o_call4.shape[1])\n",
    "y4= int(0.432 * o_call4.shape[0])\n",
    "\n",
    "\n",
    "image_4,mean_4 = subimage_preob('pic_4.jpg',o_call4,x1,y1,x2,y2,x3,y3,x4,y4)"
   ]
  },
  {
   "cell_type": "markdown",
   "id": "e61614af-2a33-4de3-859f-c6c4153fef0f",
   "metadata": {
    "tags": []
   },
   "source": [
    "# Graph"
   ]
  },
  {
   "cell_type": "code",
   "execution_count": null,
   "id": "2056b673-b0e7-421e-862e-68976fbab1a7",
   "metadata": {},
   "outputs": [],
   "source": [
    "fig = plt.figure(figsize=(8,4),dpi = 100)#(figsize=(14,7),dpi = 200)\n",
    "ax = fig.add_subplot(111)\n",
    "# mean_call1 = preob(revers1)\n",
    "x = np.arange(1, len(mean_1) + 1)\n",
    "ax.scatter(x,mean_1,color = 'orangered', s = 2, alpha = 0.5)\n",
    "ax.set_xlabel(\"Pixel\")\n",
    "ax.set_ylabel(\"Value of pixel\")\n",
    "ax.set_title('call1')\n",
    "# plt.xlim(50,100)"
   ]
  },
  {
   "cell_type": "code",
   "execution_count": null,
   "id": "97c8ea05-8f5e-4f21-97d5-e34015636c89",
   "metadata": {},
   "outputs": [],
   "source": [
    "fig = plt.figure(figsize=(10,5),dpi = 100)#(figsize=(14,7),dpi = 200)\n",
    "ax = fig.add_subplot(111)\n",
    "# mean_call1 = preob(revers1)\n",
    "x = np.arange(1, len(mean_2) + 1)\n",
    "ax.scatter(x,mean_2,color = 'orangered', s = 2, alpha = 0.5)\n",
    "ax.set_xlabel(\"Номер столбца пикселей\")\n",
    "ax.set_ylabel(\"Почернение\")\n",
    "# ax.set_title('call2')\n",
    "# plt.xlim(50,100)\n",
    "# plt.savefig(\"preob.jpg\")"
   ]
  },
  {
   "cell_type": "code",
   "execution_count": null,
   "id": "c1e6d73d-955a-44f2-b6c6-755b6dc03ece",
   "metadata": {},
   "outputs": [],
   "source": [
    "fig = plt.figure(figsize=(8,4),dpi = 100)#(figsize=(14,7),dpi = 200)\n",
    "ax = fig.add_subplot(111)\n",
    "# mean_call1 = preob(revers1)\n",
    "x = np.arange(1, len(mean_3) + 1)\n",
    "ax.scatter(x,mean_3,color = 'orangered', s = 2, alpha = 0.5)\n",
    "ax.set_xlabel(\"Pixel\")\n",
    "ax.set_ylabel(\"Value of pixel\")\n",
    "ax.set_title('call3')\n",
    "# plt.xlim(50,100)"
   ]
  },
  {
   "cell_type": "code",
   "execution_count": null,
   "id": "bed37251-cf9b-4229-bb64-a224d2bbe27c",
   "metadata": {},
   "outputs": [],
   "source": [
    "fig = plt.figure(figsize=(8,4),dpi = 100)#(figsize=(14,7),dpi = 200)\n",
    "ax = fig.add_subplot(111)\n",
    "# mean_call1 = preob(revers1)\n",
    "x = np.arange(1, len(mean_4) + 1)\n",
    "ax.scatter(x,mean_4,color = 'orangered', s = 2, alpha = 0.5)\n",
    "ax.set_xlabel(\"Pixel\")\n",
    "ax.set_ylabel(\"Value of pixel\")\n",
    "ax.set_title('call4')\n",
    "# plt.xlim(50,100)"
   ]
  },
  {
   "cell_type": "markdown",
   "id": "556b1e85-34e2-417b-b68c-ddf5fe909b94",
   "metadata": {},
   "source": [
    "# Peaks finding"
   ]
  },
  {
   "cell_type": "code",
   "execution_count": null,
   "id": "c2b64109-8036-44b1-afd4-cf4d637d7654",
   "metadata": {
    "tags": []
   },
   "outputs": [],
   "source": [
    "def peaks(mean,order):\n",
    "    \"\"\"\n",
    "    function for searching peaks in array \n",
    "    \"\"\"\n",
    "    peak_indexes = signal.argrelextrema(mean, np.greater, order=order)[0] #индексы пиков \n",
    "    peak_mean =[] # создаем пустой массив для средних значений пиков\n",
    "    for i in range(0,len(mean)):\n",
    "        if i in peak_indexes:\n",
    "            peak_mean.append((mean[i-2]+mean[i-1]+mean[i]+mean[i+1]+mean[i+2])/5) # ищем среднее по пяти рядом стоящих значений\n",
    "    #возвращает позицию/индекс найденного пика и среднее значение по пяти значениям : пик + 2 слева + 2 справа\n",
    "    return peak_indexes,peak_mean"
   ]
  },
  {
   "cell_type": "code",
   "execution_count": null,
   "id": "cf2e8593-515f-4fdf-96af-1a30337eca1e",
   "metadata": {
    "tags": []
   },
   "outputs": [],
   "source": [
    "peak_indexes_1,peak_mean_1 = peaks(mean_call1,order=8)\n",
    "peak_indexes_2,peak_mean_2 = peaks(mean_call2,order=8)\n",
    "peak_indexes_3,peak_mean_3 = peaks(mean_call3,order=4)\n",
    "peak_indexes_4,peak_mean_4 = peaks(mean_4,order=9)"
   ]
  },
  {
   "cell_type": "markdown",
   "id": "b31e3997-304a-49d7-af90-e62d5504bd4b",
   "metadata": {
    "tags": []
   },
   "source": [
    "### Peaks graph"
   ]
  },
  {
   "cell_type": "code",
   "execution_count": null,
   "id": "b7bda6d6-557f-43d4-abac-0cef5f3e9774",
   "metadata": {
    "tags": []
   },
   "outputs": [],
   "source": [
    "x1 = np.arange(0,len(mean_1))\n",
    "plt.plot(x1,mean_1)\n",
    "plt.scatter(peak_indexes_1, mean_1[[peak_indexes_1]], color = 'y', s = 10, marker = 'D', label = 'maxima')\n",
    "plt.scatter(peak_indexes_1, peak_mean_1, color = 'r', s = 10, marker = 'D', label = 'maxima')"
   ]
  },
  {
   "cell_type": "code",
   "execution_count": null,
   "id": "5c89c1c8-9c1e-4e16-a5a6-e4d527530cb1",
   "metadata": {
    "tags": []
   },
   "outputs": [],
   "source": [
    "x2 = np.arange(0,len(mean_call2))\n",
    "plt.plot(x2,mean_call2)\n",
    "plt.scatter(peak_indexes_2, mean_call2[[peak_indexes_2]], color = 'y', s = 10, marker = 'D', label = 'maxima')\n",
    "plt.scatter(peak_indexes_2, peak_mean_2, color = 'r', s = 10, marker = 'D', label = 'maxima')"
   ]
  },
  {
   "cell_type": "code",
   "execution_count": null,
   "id": "00ac538f-be2e-429f-8038-60cee641b9d7",
   "metadata": {
    "tags": []
   },
   "outputs": [],
   "source": [
    "x3 = np.arange(0,len(mean_call3))\n",
    "plt.plot(x3,mean_call3)\n",
    "plt.scatter(peak_indexes_3, mean_call3[[peak_indexes_3]], color = 'y', s = 10, marker = 'D', label = 'maxima')\n",
    "plt.scatter(peak_indexes_3, peak_mean_3, color = 'r', s = 10, marker = 'D', label = 'maxima')"
   ]
  },
  {
   "cell_type": "code",
   "execution_count": null,
   "id": "4b1d0a1f-bada-47c7-8034-0aedf26724e2",
   "metadata": {
    "tags": []
   },
   "outputs": [],
   "source": [
    "x4 = np.arange(0,len(mean_4))\n",
    "plt.plot(x4,mean_4)\n",
    "plt.scatter(peak_indexes_4, mean_4[[peak_indexes_4]], color = 'y', s = 10, marker = 'D', label = 'maxima')\n",
    "plt.scatter(peak_indexes_4, peak_mean_4, color = 'r', s = 10, marker = 'D', label = 'maxima')"
   ]
  },
  {
   "cell_type": "markdown",
   "id": "bf2ac0be-e491-4ba0-8164-86e45af37149",
   "metadata": {},
   "source": [
    "## Our function for peaks"
   ]
  },
  {
   "cell_type": "code",
   "execution_count": null,
   "id": "96ec9951-8fd8-4efc-bd25-6dbf1b31d95b",
   "metadata": {},
   "outputs": [],
   "source": [
    "def peaks(mean):    \n",
    "    \n",
    "    for ind,p in enumerate(mean): \n",
    "        \n",
    "        if p < mean[ind+1]:\n",
    "            continue\n",
    "        \n",
    "        else:\n",
    "            first_peak_ind = ind\n",
    "            break\n",
    "\n",
    "    random_peak_ind=[first_peak_ind]\n",
    "    \n",
    "    for ind in range(first_peak_ind+1,len(mean)-1):\n",
    "        \n",
    "        if mean[ind] > mean[ind-1] and mean[ind] > mean[ind+1]:\n",
    "            random_peak_ind.append(ind)\n",
    "            \n",
    "    bad_peaks = []\n",
    "    good_peaks = []\n",
    "    min_dist = 10\n",
    "    counter = 0\n",
    "    \n",
    "    for ind in range(0,len(random_peak_ind)-1):\n",
    "        delta = random_peak_ind[ind+1] - random_peak_ind[ind]\n",
    "        \n",
    "        if delta < min_dist:\n",
    "            bad_peaks.append(random_peak_ind[ind])\n",
    "            bad_peaks.append(random_peak_ind[ind+1])\n",
    "        \n",
    "        else:\n",
    "            \n",
    "            if len(bad_peaks)==0:\n",
    "                good_peaks.append(random_peak_ind[ind])\n",
    "            \n",
    "            else:\n",
    "                bad_peaks = np.array(np.unique(bad_peaks))\n",
    "                mean_index = int(bad_peaks.mean())\n",
    "                good_peaks.append(mean_index)\n",
    "                bad_peaks = []\n",
    "\n",
    "    good_peaks.append(random_peak_ind[-1])\n",
    "    \n",
    "    if len(good_peaks) > 9:\n",
    "        \n",
    "        if mean[[good_peaks[-1]]] < mean[[good_peaks[-2]]]:\n",
    "            good_peaks = good_peaks[:-1] \n",
    "            \n",
    "    peak_mean =[] # создаем пустой массив для средних значений пиков\n",
    "    for i in range(0,len(mean)):\n",
    "        if i in good_peaks:\n",
    "            peak_mean.append((mean[i-2]+mean[i-1]+mean[i]+mean[i+1]+mean[i+2])/5) # ищем среднее по пяти рядом стоящих значений\n",
    "    #возвращает позицию/индекс найденного пика и среднее значение по пяти значениям : пик + 2 слева + 2 справа        \n",
    "\n",
    "    return good_peaks, peak_mean                    "
   ]
  },
  {
   "cell_type": "code",
   "execution_count": null,
   "id": "bbf2dd13-1342-4203-b257-0034c7e0dc32",
   "metadata": {},
   "outputs": [],
   "source": [
    "good_peaks_1, peak_mean_1 = peaks(mean_1)\n",
    "\n",
    "good_peaks_2, peak_mean_2 = peaks(mean_2)"
   ]
  },
  {
   "cell_type": "code",
   "execution_count": null,
   "id": "02f370dd-6b5a-4a23-96e1-04fc69f6f056",
   "metadata": {},
   "outputs": [],
   "source": [
    "good_peaks_3, peak_mean_3 = peaks(mean_3)"
   ]
  },
  {
   "cell_type": "code",
   "execution_count": null,
   "id": "56423cd9-1686-41a7-bda4-f2ff592ba8d4",
   "metadata": {
    "tags": []
   },
   "outputs": [],
   "source": [
    "good_peaks_4, peak_mean_4 = peaks(mean_4)"
   ]
  },
  {
   "cell_type": "code",
   "execution_count": null,
   "id": "d6e66b17-5dff-4ce4-9f87-4f9d31c531a7",
   "metadata": {},
   "outputs": [],
   "source": [
    "plt.figure(figsize = (8,5),dpi=100)\n",
    "x4 = np.arange(0,len(mean_1))\n",
    "plt.plot(x4,mean_1)\n",
    "plt.scatter(good_peaks_1, mean_1[[good_peaks_1]], color = 'r', s = 10, marker = 'D', label = 'maxima')       \n",
    "plt.scatter(good_peaks_1, peak_mean_1, color = 'g', s = 10, marker = 'o', label = 'maxima')       "
   ]
  },
  {
   "cell_type": "code",
   "execution_count": null,
   "id": "6f53c95b-fcc0-4f0e-a436-eaefd8330eed",
   "metadata": {},
   "outputs": [],
   "source": [
    "plt.figure(figsize = (8,5),dpi=100)\n",
    "x4 = np.arange(0,len(mean_2))\n",
    "plt.plot(x4,mean_2,lw=1)\n",
    "plt.scatter(good_peaks_2, mean_2[[good_peaks_2]], color = 'r', s = 15, marker = 'D', label = \"Пики\")       \n",
    "plt.scatter(good_peaks_2, peak_mean_2, color = 'y', s = 15, marker = 'o',  label = \"Средние пики\")       \n",
    "plt.legend(ncol=2,loc=9)\n",
    "plt.xlabel(\"Номер столбца пикселей\")\n",
    "plt.ylabel(\"Почернение\")\n",
    "plt.savefig(\"peaks.jpg\")"
   ]
  },
  {
   "cell_type": "code",
   "execution_count": null,
   "id": "2bfebd2a-1512-44ca-be96-af322b687cf6",
   "metadata": {},
   "outputs": [],
   "source": [
    "plt.figure(figsize = (8,5),dpi=100)\n",
    "x4 = np.arange(0,len(mean_3))\n",
    "plt.plot(x4,mean_3)\n",
    "plt.scatter(good_peaks_3, mean_3[[good_peaks_3]], color = 'r', s = 10, marker = 'D', label = 'maxima')       \n",
    "plt.scatter(good_peaks_3, peak_mean_3, color = 'g', s = 10, marker = 'o', label = 'maxima')       "
   ]
  },
  {
   "cell_type": "code",
   "execution_count": null,
   "id": "d2be2be2-7912-42e2-abbd-289b92c2a30d",
   "metadata": {
    "jupyter": {
     "source_hidden": true
    },
    "tags": []
   },
   "outputs": [],
   "source": [
    "plt.figure(figsize = (8,5),dpi=100)\n",
    "x4 = np.arange(0,len(mean_4))\n",
    "plt.plot(x4,mean_4)\n",
    "plt.scatter(good_peaks_4, mean_4[[good_peaks_4]], color = 'r', s = 10, marker = 'D', label = 'maxima')       \n",
    "plt.scatter(good_peaks_4, peak_mean_4, color = 'g', s = 10, marker = 'o', label = 'maxima')       "
   ]
  },
  {
   "cell_type": "markdown",
   "id": "e6ac863d-d073-41ef-91df-8ad7cd7622a9",
   "metadata": {},
   "source": [
    "# Сharacteristic curve"
   ]
  },
  {
   "cell_type": "markdown",
   "id": "253a5039-7ca2-4788-94e2-cb4fb81610f8",
   "metadata": {},
   "source": [
    "Data for step attenuators in stellar magnitudes (L.N. gave):\n",
    "\n",
    "$Period / step$| $1$ | $2$    | $3$    | $4$    | $5$    | $6$    | $7$    | $8$    | $9$ |\n",
    "---          |---|---   |---   |---   |---   |---   |---   |---   |---|\n",
    "$before~1972  $| $0$ | $0.61$ | $1.1 $ | $1.47$ | $1.84$ | $2.25$ |$ 2.66$ |$ 3.04$ | $0$ |\n",
    "$after~1972   $| $0$ | $0.5 $ | $0.97$ | $1.44$ | $1.93$ | $2.43$ |$2.69 $ |$3.04 $ | $0$ |\n",
    "\n",
    "The $1^{st}$ and the $9^{th}$ steps have the same value.\n",
    "\n",
    "When we plot graph we will see that we should shift our point\n",
    "We have different exposure time, so our graphs looks not similary\n",
    "For right shifting we should find log of deviding maximum exposure for other and multiply it by 2.5\n",
    "\n",
    "$delta_i = 2.5 \\times \\dfrac{exposure_{max}}{exposure_i}$"
   ]
  },
  {
   "cell_type": "code",
   "execution_count": null,
   "id": "38c2a53f-3598-47fd-889e-eb2a5f6de8b5",
   "metadata": {},
   "outputs": [],
   "source": [
    "#Data for step attenuators in stellar magnitudes (L.N. gave) \n",
    "mag_before_1972 = [0,0.61,1.1,1.47,1.84,2.25,2.66,3.04,0]\n",
    "mag_after_1972 = [0,0.5,0.97,1.44,1.93,2.43,2.69,3.04,0]\n",
    "\n",
    "delta_m1 = 2.5*np.log(120/120)\n",
    "delta_m2 = 2.5*np.log(120/90)\n",
    "delta_m3 = 2.5*np.log(120/60)\n",
    "delta_m4 = 2.5*np.log(120/40)"
   ]
  },
  {
   "cell_type": "code",
   "execution_count": null,
   "id": "3d4014d4-613b-4e2c-9987-4f5e8b05f659",
   "metadata": {
    "tags": []
   },
   "outputs": [],
   "source": [
    "plt.figure(figsize=(6,4),dpi=120)\n",
    "if len(peak_mean_1) > 8:\n",
    "    plt.scatter(mag_after_1972[:-1],peak_mean_1[1:9], label=1)\n",
    "plt.scatter(mag_after_1972[:-1],peak_mean_2[1:9], label=2)\n",
    "plt.scatter(mag_after_1972[:-1],peak_mean_3[1:9], label=3)\n",
    "plt.scatter(mag_after_1972[:-1],peak_mean_4[:8], label=4)\n",
    "plt.legend()\n",
    "plt.xlabel(\"Звездные величины\")\n",
    "plt.ylabel(\"Почернение\")\n",
    "plt.savefig(\"peaks_curve_deviated.jpg\")"
   ]
  },
  {
   "cell_type": "code",
   "execution_count": null,
   "id": "36d6c016-0016-4e23-a28b-bad0cec29411",
   "metadata": {
    "tags": []
   },
   "outputs": [],
   "source": [
    "plt.figure(figsize=(6,4),dpi=120)\n",
    "\n",
    "if len(peak_mean_1) > 8:\n",
    "    plt.scatter(mag_after_1972[:-1]+delta_m1,peak_mean_1[1:9], label=1)\n",
    "\n",
    "plt.scatter(mag_after_1972[:-1]+delta_m2,peak_mean_2[1:9], label=2)\n",
    "plt.scatter(mag_after_1972[:-1]+delta_m3,peak_mean_3[1:9], label=3)\n",
    "plt.scatter(mag_after_1972[:-1]+delta_m4,peak_mean_4[:8], label=4)\n",
    "plt.legend(loc=3)\n",
    "plt.xlabel(\"Звездные величины\")\n",
    "plt.ylabel(\"Почернение\")\n",
    "plt.savefig(\"peaks_curve_alighned.jpg\")"
   ]
  },
  {
   "cell_type": "code",
   "execution_count": null,
   "id": "ef071153-fd87-43eb-ae91-7e97c1dcbf57",
   "metadata": {
    "tags": []
   },
   "outputs": [],
   "source": [
    "array = [peak_mean_1[1:9],peak_mean_2[1:9],peak_mean_3[1:9],peak_mean_4[:8]]\n",
    "y_array = np.concatenate(array)\n",
    "x_array = np.concatenate([mag_after_1972[:-1]+delta_m1,mag_after_1972[:-1]+delta_m2,mag_after_1972[:-1]+delta_m3,mag_after_1972[:-1]+delta_m4])"
   ]
  },
  {
   "cell_type": "markdown",
   "id": "376f32ba-c010-4efe-a413-93a61d074f5e",
   "metadata": {},
   "source": [
    "# Cleaning\n",
    "\n",
    "If we have values wich differ more than 3$\\sigma$ from previous value or 5$\\sigma$ from mean"
   ]
  },
  {
   "cell_type": "markdown",
   "id": "2027a593-2a6f-40aa-b5a6-4d412deb1e09",
   "metadata": {},
   "source": [
    "# Mean deviation"
   ]
  },
  {
   "cell_type": "code",
   "execution_count": null,
   "id": "39484c29-6898-4d08-908b-26071c0f7d85",
   "metadata": {},
   "outputs": [],
   "source": [
    "# array = [peak_mean_1[1:-1],peak_mean_2[:8],peak_mean_3[:8],peak_mean_4[:-1]]\n",
    "# y_array = np.concatenate(array)\n",
    "# x_array = np.concatenate([mag_after_1972[:-1]+delta_m1,mag_after_1972[:-1]+delta_m2,mag_after_1972[:-1]+delta_m3,mag_after_1972[:-1]+delta_m4])\n",
    "\n",
    "#we calculate mean deveation by calculating delta between each neighboring element, sum it and the devide by number of elements \n",
    "c = []\n",
    "for i in range(1,len(y_array)):\n",
    "    c.append(abs(y_array[i] - y_array[i-1]))\n",
    "mean_deviation = np.array(c).sum()/len(y_array)\n",
    "\n",
    "#now we sort our data: if delta between neighboring elements larger than 2 mean deveation we will remove it\n",
    "indexes = []\n",
    "for i in range(1,len(y_array)):\n",
    "    if abs(y_array[i]-y_array[i-1])>mean_deviation*2:\n",
    "        indexes.append(i)\n",
    "\n",
    "y_array = np.delete(y_array,indexes)\n",
    "x_array = np.delete(x_array,indexes)\n",
    "#Imax = 10000\n",
    "xarray_flux = 10000/10**(x_array/2.5)"
   ]
  },
  {
   "cell_type": "code",
   "execution_count": null,
   "id": "9b887691-43ec-47aa-8db3-3ee22fd3da1c",
   "metadata": {},
   "outputs": [],
   "source": [
    "#now we shoudl sort our data to don't get convoluted curve\n",
    "\n",
    "a = []\n",
    "for i in range(0,len(xarray_flux)):\n",
    "    a.append([xarray_flux[i],y_array[i]])\n",
    "\n",
    "a.sort(key=lambda x:x[0])\n",
    "\n",
    "xarray_flux = []\n",
    "y_array = []\n",
    "\n",
    "for i in range(0,len(a)):\n",
    "    xarray_flux.append(a[i][0])\n",
    "    y_array.append(a[i][1])\n",
    "    \n",
    "xarray_flux = np.array(xarray_flux)\n",
    "y_array = np.array(y_array)       \n",
    "\n",
    "del a"
   ]
  },
  {
   "cell_type": "code",
   "execution_count": null,
   "id": "65847ade-ef74-4f2d-b31b-ab81930e8500",
   "metadata": {},
   "outputs": [],
   "source": [
    "plt.figure(figsize=(6,4),dpi=120)\n",
    "plt.plot(xarray_flux, y_array, markersize=3,marker='o' )\n",
    "# plt.ylim(0,4000)\n",
    "# plt.xlim(0,1000)\n",
    "plt.xlabel(\"Интенсивность\")\n",
    "plt.ylabel(\"Почернение\")\n",
    "plt.savefig(\"characteristic_curve_first.jpg\")"
   ]
  },
  {
   "cell_type": "code",
   "execution_count": null,
   "id": "a984137b-86c8-438b-b355-9e0803d12883",
   "metadata": {},
   "outputs": [],
   "source": [
    "def aprx(x,y,order):\n",
    "\n",
    "    monotone = False\n",
    "    while monotone == False:\n",
    "        \n",
    "        z = np.polyfit( x,y,order)\n",
    "        p = np.poly1d(z)\n",
    "        xp = np.linspace(0, x[-1], 1000)\n",
    "        # print(xp)\n",
    "        pxp = p(xp)\n",
    "\n",
    "        for i in range(1,len(pxp)):\n",
    "            max_pxp = y[:-1].max()\n",
    "            if pxp[i]<=pxp[i-1]:\n",
    "                pxp[i]=pxp[i-1]+1\n",
    "                if pxp[i]>=max_pxp:\n",
    "                    min_pxp = pxp[i-100]\n",
    "                    delta_pxp = abs((max_pxp - min_pxp)/(len(pxp)-i-1))\n",
    "                    index = i-10\n",
    "                    break\n",
    "\n",
    "\n",
    "        for j in range(index+1,len(pxp)):\n",
    "            pxp[j]=pxp[j-1]+delta_pxp\n",
    "\n",
    "        z = np.polyfit( xp,pxp, 6)\n",
    "        pp = np.poly1d(z)\n",
    "        xpp = np.linspace(0, x[-1], 1000)\n",
    "\n",
    "        pxpp = pp(xpp)\n",
    "        \n",
    "        check = []\n",
    "        for k in range(0,len(pxpp)-1):      \n",
    "            if pxpp[k]>pxpp[k+1]:\n",
    "                check.append(k)\n",
    "        \n",
    "        if len(check) == 0:\n",
    "                monotone = True\n",
    "        else:\n",
    "            order = order+1\n",
    "            monotone = False\n",
    "               \n",
    "    fig, ax1 = plt.subplots(figsize=(8,5),dpi=80)\n",
    "    ax1 = plt.scatter(x[:-1],y[:-1], color=\"blue\",s=5) \n",
    "    ax1 = plt.plot(xp, p(xp), color=\"orange\")           \n",
    "\n",
    "    fig, ax2 = plt.subplots(figsize=(6,4),dpi=120)\n",
    "    ax2 = plt.plot( xpp, pp(xpp), lw=1, label = f\"Апроксимация полиномом ({order},6)\")#\"Polynomial approximation\")\n",
    "    ax2 = plt.scatter(x[:-1],y[:-1], color=\"red\",s=50,marker='.')#, label = \"Attenuator magnitude\")\n",
    "    plt.legend()\n",
    "    plt.xlabel(\"Интенсивность\")\n",
    "    plt.ylabel(\"Почернение\")\n",
    "#     plt.yticks([200, 300, 400, 500, 600, 700, 800, 900])\n",
    "    plt.savefig(\"characteristic_curve.jpg\")\n",
    "    return xpp,pp"
   ]
  },
  {
   "cell_type": "code",
   "execution_count": null,
   "id": "f7f25c47-4087-4306-8be1-cab4c3ec9ea6",
   "metadata": {
    "tags": []
   },
   "outputs": [],
   "source": [
    "xpp,polinomial = aprx(xarray_flux,y_array,6)"
   ]
  },
  {
   "cell_type": "code",
   "execution_count": null,
   "id": "020a4e44-3d13-48bd-b538-3ce09f2f74de",
   "metadata": {},
   "outputs": [],
   "source": [
    "print(polinomial)"
   ]
  },
  {
   "cell_type": "markdown",
   "id": "108f6377-7a84-4c20-b4ca-8d33de7773f5",
   "metadata": {},
   "source": [
    "# Spectrum "
   ]
  },
  {
   "cell_type": "code",
   "execution_count": null,
   "id": "4c847d7d-2b39-41b0-bead-0918836f0200",
   "metadata": {
    "tags": []
   },
   "outputs": [],
   "source": [
    "def polynomial_alighn(data,low_limit,up_limit,order):\n",
    "    \n",
    "    \"\"\"\n",
    "    function aligns the spectrum through finding min value in each column and approximate it with polynomial and mean for polinomial line\n",
    "    \n",
    "    data - whole image\n",
    "    up_limit,low_limit - limits of spectra in rows number\n",
    "    order - polinomial order to approximate spectra\n",
    "    \n",
    "    \"\"\"\n",
    "    \n",
    "    data_part = data[low_limit:up_limit]\n",
    "    fig, ax1 = plt.subplots(figsize=(8,5),dpi=100)\n",
    "    ax1.imshow(data_part, cmap='gray')\n",
    "#     plt.imsave('pic_lamp_20s.jpg', data_part)\n",
    "    ax1.set_title(\"Initial part of spectra\")\n",
    "#     plt.savefig(\"initial_part.eps\")\n",
    "    \n",
    "    #create massive of part of whole spectra with arrays of columns, not rows\n",
    "    data_columns = []\n",
    "    for i in range(0,len(data_part[0])):\n",
    "        data_columns.append(list(data_part[:,i]))\n",
    "    data_columns=list(data_columns)\n",
    "    \n",
    "    #create massive of whole spectra with arrays of columns, not rows\n",
    "    data_collumns_entire_image = []\n",
    "    for j in range(0,len(data[0])):\n",
    "        data_collumns_entire_image.append(list(data[:,j]))\n",
    "    data_collumns_entire_image=list(data_collumns_entire_image)\n",
    "\n",
    "    #find min value in each column and then find indexes of the values - they will be Y-coordinate\n",
    "    data_col_min = data_part.min(axis=0)\n",
    "\n",
    "#     data_col_min = data_part.max(axis=0)\n",
    "    index = []\n",
    "    for i in range(0,len(data_col_min)):\n",
    "            index.append(data_columns[i].index(data_col_min[i]))\n",
    "\n",
    "\n",
    "    #find median value of neighboring indexes of min values in each column in some ranges to compairing in the next steps\n",
    "    #we schould find mediam values for ranges not for whole image, because we have non-linear graph and it has curvature  \n",
    "    median = []\n",
    "    n = 0\n",
    "    while n+100<len(index):\n",
    "        k=n+100\n",
    "        median.append([n,k,np.median(index[n:k])])\n",
    "        n=k\n",
    "    else:\n",
    "        median.append([n,-1,np.median(index[n:])])\n",
    "\n",
    "    #calculate mean delta between neighboring values\n",
    "    delt=[]\n",
    "    for i in range(1,len(index)):\n",
    "        delt.append(abs(index[i]-index[i-1]))\n",
    "    delt_mean = np.array(delt).sum()/len(delt)    \n",
    "\n",
    "    #now we compair difference between median value indexes of minimum value in each column     \n",
    "    for i in median:\n",
    "        for j in range(i[0],i[1]):\n",
    "            if abs(i[2]-index[j])>delt_mean:\n",
    "                index[j] = i[2]\n",
    "\n",
    "    fig, ax2 = plt.subplots(figsize=(8,5),dpi=100)\n",
    "    ax2.plot(index)\n",
    "    \n",
    "    #plot polynomial\n",
    "    xp = np.arange(0,len(index))\n",
    "    z = np.polyfit(xp,index, order)\n",
    "    polynomial = np.poly1d(z)\n",
    "    y_polynomial = polynomial(xp)\n",
    "    ax2.plot(index, color=\"steelblue\", label=\"Медианное значение\") \n",
    "    ax2.plot(xp, y_polynomial, color=\"orange\", label=f\"Полином ({order})\")\n",
    "#     ax2.set_title(\"Polinomial approximation of spectra\")\n",
    "    ax2.set_xlabel(\"Номер столбца пикселей\")\n",
    "    ax2.set_ylabel(\"Номер строки пикселей\")\n",
    "    ax2.legend()\n",
    "    plt.savefig(\"polinomial_spectra.jpg\")\n",
    "    \n",
    "    xp_tg = np.arange(0,len(y_polynomial))\n",
    "    z_tg = np.polyfit(xp_tg,y_polynomial, 1)\n",
    "    polynomial_tg = np.poly1d(z_tg)\n",
    "    y_polynomial_tg = polynomial_tg(xp_tg)\n",
    "    tg = polynomial_tg[1]\n",
    "    \n",
    "    #now we will plot our curve on our frame\n",
    "    mean_polynomial = y_polynomial.mean()\n",
    "    fig, ax3 = plt.subplots(figsize=(8,5),dpi=100)\n",
    "    ax3.imshow(data_part, cmap='gray')\n",
    "    ax3.plot(xp, y_polynomial, color=\"orange\", label=f\"Polinomial, order = {order}\")\n",
    "    ax3.axhline(mean_polynomial, label=\"Polinomial mean\")\n",
    "    ax3.set_axis_off()\n",
    "#     ax3.legend(bbox_to_anchor=(1.01,0.5))\n",
    "    plt.savefig(\"polinomial_mean.jpg\")\n",
    "    \n",
    "    delta_y = []\n",
    "    for i in range(0,len(index)):\n",
    "        delta = mean_polynomial - polynomial(xp)[i]\n",
    "        delta_y.append(int(delta))\n",
    "\n",
    "    shape = np.array(data_collumns_entire_image).shape\n",
    "    new_pic_col = np.zeros(shape)\n",
    "    for i in range(0,len(data_collumns_entire_image)):\n",
    "        for j in range(0,len(data_collumns_entire_image[i])):\n",
    "            m  = j + delta_y[i]\n",
    "            if m<len(data_collumns_entire_image[i]):\n",
    "                new_pic_col[i][m] = data_collumns_entire_image[i][j] \n",
    "            else:\n",
    "                m = m - len(data_collumns_entire_image[i])\n",
    "                new_pic_col[i][m] = data_collumns_entire_image[i][j] \n",
    "    data_rows = []\n",
    "    for i in range(0,len(new_pic_col[0])):\n",
    "        data_rows.append(list(new_pic_col[:,i]))\n",
    "            \n",
    "    \n",
    "    delta_x = np.arange(0,len(data_rows))*tg\n",
    "    shape = np.array(data_rows).shape\n",
    "    new_data_rows = np.zeros(shape)\n",
    "    for i in range(0,len(data_rows)):\n",
    "        for j in range(0,len(data_rows[i])):\n",
    "            m  = int(j + 2*delta_x[i])\n",
    "            if m<len(data_rows[i]):\n",
    "                new_data_rows[i][m] = data_rows[i][j] \n",
    "            else:\n",
    "                m = m - len(data_rows[i])\n",
    "                new_data_rows[i][m] = data_rows[i][j] \n",
    "    \n",
    "    aligned_image = new_data_rows\n",
    "    \n",
    "    fig, ax4 = plt.subplots(figsize=(8,5),dpi=100)\n",
    "    ax4.imshow(aligned_image, cmap='gray')\n",
    "    plt.axis(\"off\")\n",
    "    # ax4.grid()\n",
    "#     ax4.set_title(\"Aligned spectra\")\n",
    "    plt.savefig(\"aligned_spectra.jpg\")\n",
    "    \n",
    "    return aligned_image"
   ]
  },
  {
   "cell_type": "code",
   "execution_count": null,
   "id": "98c827fa-bf1d-43e6-82c7-7b2038d14ca7",
   "metadata": {
    "tags": []
   },
   "outputs": [],
   "source": [
    "fits = fits.open('Sh2-266_04-05.04.1978_15m_2433-corr.fit.fits')\n",
    "\n",
    "data  = fits[0].data"
   ]
  },
  {
   "cell_type": "code",
   "execution_count": null,
   "id": "79e8a766-1eaa-40da-80d1-147b8526c0d5",
   "metadata": {},
   "outputs": [],
   "source": [
    "plt.imshow(data, cmap='gray')\n",
    "plt.axis(\"off\")\n",
    "plt.savefig(\"data.jpg\")"
   ]
  },
  {
   "cell_type": "code",
   "execution_count": null,
   "id": "cd8c85f0-79b7-4169-a0ad-88001b3798cf",
   "metadata": {
    "tags": []
   },
   "outputs": [],
   "source": [
    "plt.figure(figsize=(8,5),dpi=100)\n",
    "plt.imshow(data[::-1], cmap='gray')\n",
    "# plt.axis(\"off\")\n",
    "# plt.savefig(\"data.jpg\")"
   ]
  },
  {
   "cell_type": "code",
   "execution_count": null,
   "id": "1eff256b-1698-4de6-994c-5fabb5302979",
   "metadata": {},
   "outputs": [],
   "source": [
    "spectra= polynomial_alighn(data,320,450,2)"
   ]
  },
  {
   "cell_type": "code",
   "execution_count": null,
   "id": "2dd68f06-94bc-4d0c-b069-75bf02d55f24",
   "metadata": {},
   "outputs": [],
   "source": [
    "def preob_spectra(spectra):\n",
    "    \n",
    "    \"\"\"\n",
    "    Функция пересчитывает плотности почернения в интенсивности при помощи полинома, полученного \n",
    "    в работе с калибровками.\n",
    "    На выходе преобразованный спектр и график, из которого необходимо определить на каких строках (х1 и х1) находится спектр.\n",
    "    Тут же можно определить где находятся лампы.\n",
    "    \"\"\"\n",
    "    x_log = (np.log10(65536/spectra) * 1000)\n",
    "#     spectra_ = (2.803e-20*x_log**6 - 5.835e-16*x_log**5 + 1.635e-12*x_log**4 + 4.247e-08*x_log**3 - 0.0004067*x_log**2 + 1.439*x_log + 196.7).sum()\n",
    "    \n",
    "    spectra_ = polinomial(x_log)\n",
    "#     \n",
    "    sum_intens_row = spectra_.sum(axis=1)\n",
    "    \n",
    "    plt.figure(figsize=(6,4),dpi=120)\n",
    "    plt.plot(sum_intens_row)\n",
    "#     plt.grid(lw=0.1)\n",
    "    plt.xlabel(\"Номер строки пикселей\")\n",
    "    plt.ylabel(\"Сумма интенсивностей\")\n",
    "    plt.savefig(\"spectra_background_rows.jpeg\")\n",
    "    return spectra_"
   ]
  },
  {
   "cell_type": "code",
   "execution_count": null,
   "id": "e67ca746-2bfa-46a1-96a9-3b52c4626807",
   "metadata": {},
   "outputs": [],
   "source": [
    "spectra_preob = preob_spectra(spectra)"
   ]
  },
  {
   "cell_type": "code",
   "execution_count": null,
   "id": "bdf79321-d0ca-4b75-8e4f-fbabb0e7579d",
   "metadata": {},
   "outputs": [],
   "source": [
    "def spectra_lamps(data,y1,y2,y3,y4):\n",
    "    \n",
    "    \"\"\"\n",
    "    Функция для вырезания из целого изображения спектра двух ламп и\n",
    "    спектра самого объекта по отдельнсти.\n",
    "    \"\"\"\n",
    "    \n",
    "    lamp_1 = data[y1:y2]\n",
    "    spectra = data[y2:y3]\n",
    "    lamp_2 = data[y3:y4]\n",
    "    \n",
    "    return lamp_1, spectra, lamp_2"
   ]
  },
  {
   "cell_type": "code",
   "execution_count": null,
   "id": "d5b81929-d2ec-41e5-a33f-c288027903d5",
   "metadata": {},
   "outputs": [],
   "source": [
    "lamp_1, spectra_back, lamp_2 = spectra_lamps(spectra_preob,230,286,340,400)"
   ]
  },
  {
   "cell_type": "code",
   "execution_count": null,
   "id": "7a9c826f-9dc9-4404-a598-8eb7aee789bc",
   "metadata": {},
   "outputs": [],
   "source": [
    "def spectra_background(data,x1,x2):\n",
    "    \n",
    "    \"\"\"\n",
    "    Разбивает часть изображения со спектром на фон (над и под) и спектр.\n",
    "    Вычитает фон из спектра и \n",
    "    на выходе выдает ГОТОВЫЙ спектр (+график, конечно же)\n",
    "    \"\"\"\n",
    "    \n",
    "    back_1 = data[0:x1]\n",
    "    back_2 = data[x2:]\n",
    "    back = np.concatenate((back_1,back_2))\n",
    "    back_mean = back.mean(axis=0)\n",
    "    \n",
    "    spectrum = data[x1:x2]\n",
    "    spectrum_sum = np.array(spectrum).sum(axis=0)\n",
    "    spectrum_final = spectrum_sum - back_mean*(x2-x1)\n",
    "    \n",
    "    plt.figure(figsize=(8,4),dpi=120)\n",
    "    plt.plot(spectrum_final)\n",
    "    plt.xlabel(\"Номер столбца пикселей\")\n",
    "    plt.ylabel(\"Интенсивность\")\n",
    "    plt.savefig(\"spectra_obj_back.jpg\")\n",
    "    \n",
    "    return spectrum_final"
   ]
  },
  {
   "cell_type": "code",
   "execution_count": null,
   "id": "281cc07a-8bdf-477d-a974-3bc2d3f1433d",
   "metadata": {
    "tags": []
   },
   "outputs": [],
   "source": [
    "spectrum_final = spectra_background(spectra_back,16,33)"
   ]
  },
  {
   "cell_type": "code",
   "execution_count": null,
   "id": "42c37114-709b-48b5-878d-1f656f424e8f",
   "metadata": {
    "tags": []
   },
   "outputs": [],
   "source": [
    "spectrum_final_lamp1 = spectra_background(lamp_1,10,47)\n",
    "# plt.axhline(spectrum_final_lamp1.mean())"
   ]
  },
  {
   "cell_type": "code",
   "execution_count": null,
   "id": "e4d076c0-1443-42a5-936c-038ee18e1f7a",
   "metadata": {
    "tags": []
   },
   "outputs": [],
   "source": [
    "spectrum_final_lamp2 = spectra_background(lamp_2,5,41)\n",
    "# plt.axhline(spectrum_final_lamp2.mean())"
   ]
  },
  {
   "cell_type": "code",
   "execution_count": null,
   "id": "bab1b35d-309d-4427-a49a-fff4220196ed",
   "metadata": {},
   "outputs": [],
   "source": [
    "plt.figure(figsize=(18,9))\n",
    "plt.imshow(lamp_2)"
   ]
  },
  {
   "cell_type": "markdown",
   "id": "e44a98b5-34e6-4e57-8b02-7888f807ebba",
   "metadata": {},
   "source": [
    "# WAVELENGTH\n",
    "\n",
    "### $D = \\frac{\\lambda_n-\\lambda_0}{N_n - N_0}$\n",
    "\n",
    "D - средняя дисперсия, λn и λo – длины волн последней и первой линий в ангстремах, а  Nn и No –соответствующие номера"
   ]
  },
  {
   "cell_type": "code",
   "execution_count": null,
   "id": "1e76ea8a-b6eb-49b7-8055-2a2c399af186",
   "metadata": {},
   "outputs": [],
   "source": [
    "lambd_0 = 6217.28\n",
    "lambd_n = 6929.47"
   ]
  },
  {
   "cell_type": "code",
   "execution_count": null,
   "id": "d71818b5-11c1-4075-8aad-fd447ddafa45",
   "metadata": {},
   "outputs": [],
   "source": [
    "def standart_deviation(list_value):\n",
    "    mean = np.mean(list_value)\n",
    "    summ = []\n",
    "    for i in list_value:\n",
    "        summ.append((i-mean)**2)\n",
    "    std = np.sqrt(np.sum(summ)/len(list_value))\n",
    "    return std\n",
    "\n",
    "def x_axis_to_wavelenght(lamp_1,lamp_2):\n",
    "    \n",
    "    lamp_1_std = standart_deviation(lamp_1)*0.5\n",
    "    \n",
    "    index_l_1 = []\n",
    "    \n",
    "    for i in range(1,len(lamp_1)-1):\n",
    "        if lamp_1[i] > lamp_1_std and lamp_1[i] > lamp_1[i+1] and lamp_1[i] > lamp_1[i-1]:\n",
    "            index_l_1.append(i)\n",
    "     \n",
    "    dalta_ind_l1 = []\n",
    "    for i in range(1,len(index_l_1)):\n",
    "        dalta_ind_l1.append(index_l_1[i]-index_l_1[i-1])\n",
    "    delta_std_l1 = standart_deviation(dalta_ind_l1)\n",
    "    \n",
    "    index_l1 = []\n",
    "    counter_l1 = 0 \n",
    "    for i in range(0,len(index_l_1)):\n",
    "            \n",
    "            if counter_l1 == 0:\n",
    "                index_l1.append(index_l_1[i])\n",
    "                countr_l1 =+ 1\n",
    "           \n",
    "            else:\n",
    "                d = index_l_1[i] - index_l_1[i-1]\n",
    "                countr_l1 =+ 1\n",
    "                if d < delta_std_l1:\n",
    "                    index_l1.append(index_l_1[i])  \n",
    "    \n",
    "    \n",
    "    index_l1_1 = index_l1[0]\n",
    "    index_l1_2 = index_l1[-1]\n",
    "    \n",
    "    lamp_2_std = standart_deviation(lamp_2)\n",
    "    \n",
    "    index_l_2 = []\n",
    "    for i in range(1,len(lamp_2)-1):\n",
    "        if lamp_2[i] > lamp_2_std and lamp_2[i] > lamp_2[i+1] and lamp_2[i] > lamp_2[i-1]:\n",
    "            index_l_2.append(i)\n",
    "            \n",
    "        \n",
    "    dalta_ind_l2 = []\n",
    "    for i in range(1,len(index_l_2)):\n",
    "        dalta_ind_l2.append(index_l_2[i]-index_l_2[i-1])\n",
    "    delta_std_l2 = standart_deviation(dalta_ind_l2)\n",
    "    \n",
    "    index_l2 = []\n",
    "    counter_l2 = 0 \n",
    "    for i in range(0,len(index_l_2)):\n",
    "            \n",
    "            if counter_l2 == 0:\n",
    "                index_l2.append(index_l_2[i])\n",
    "                countr_l2 =+ 1\n",
    "           \n",
    "            else:\n",
    "                d = index_l_2[i] - index_l_2[i-1]\n",
    "                countr_l2 =+ 1\n",
    "                if d < delta_std_l2:\n",
    "                    index_l2.append(index_l_2[i])          \n",
    "            \n",
    "            \n",
    "    index_l2_1 = index_l2[0]\n",
    "    index_l2_2 = index_l2[-2]\n",
    "    \n",
    "    index_1 = int(np.mean([index_l1_1,index_l2_1]))\n",
    "    index_2 = int(np.mean([index_l1_2,index_l2_2]))\n",
    "    \n",
    "\n",
    "    #PLOT\n",
    "    fig,(ax1,ax2) = plt.subplots(2,figsize=(8,4),dpi=120)\n",
    "#     ax1.figure(figsize=(18,9))\n",
    "    ax1.plot(lamp_1,label=\"Лампа 1\")\n",
    "    ax1.axhline(lamp_1_std,c=\"gray\",lw=1)\n",
    "    ax1.axvline(index_l1_1,c=\"r\",lw=1)\n",
    "    ax1.axvline(index_l1_2,c=\"r\",lw=1)\n",
    "    # ax1.scatter(index_l1_1, lamp_1[index_l1_1],c=\"r\",s=83)\n",
    "    # ax1.scatter(index_l1_2, lamp_1[index_l1_2],c=\"r\",s=83)\n",
    "    ax1.scatter(index_l1, lamp_1[index_l1],c=\"g\")\n",
    "#     ax1.set_title(\"Lamp 1\")\n",
    "    ax1.legend(loc=2)\n",
    "    ax1.set_xlabel(\"Номер столбца пикселей\")\n",
    "    ax1.set_ylabel(\"Интенсивность\")\n",
    "    \n",
    "    ax2.plot(lamp_2,label=\"Лампа 2\")\n",
    "    ax2.axhline(lamp_2_std,c=\"gray\",lw=1)\n",
    "    ax2.axvline(index_l2_1,c=\"r\",lw=1)\n",
    "    ax2.axvline(index_l2_2,c=\"r\",lw=1)    \n",
    "    # ax2.scatter(index_l2_1, lamp_2[index_l2_1],c=\"r\",s=83)\n",
    "    # ax2.scatter(index_l2_2, lamp_2[index_l2_2],c=\"r\",s=83)    \n",
    "    ax2.scatter(index_l2, lamp_2[index_l2],c=\"g\")\n",
    "#     ax2.set_title(\"Lamp 2\")\n",
    "    ax2.legend(loc=2)\n",
    "    \n",
    "    plt.xlabel(\"Номер столбца пикселей\")\n",
    "    plt.ylabel(\"Интенсивность\")\n",
    "    plt.savefig(\"wavelenght_lamp.jpg\")\n",
    "    \n",
    "    return index_1,index_2, index_l1,index_l2"
   ]
  },
  {
   "cell_type": "code",
   "execution_count": null,
   "id": "804df14d-759d-4e8b-9b28-e1bbadd80e94",
   "metadata": {},
   "outputs": [],
   "source": [
    "def pixel2wavelenght(spectra,lambd_0,lambd_n,N_0,N_n):\n",
    "    \n",
    "    \"\"\"\n",
    "    Function calculates mean dispersion of wavelenghts\n",
    "    and convert numbers of columns to wavelenght using lamp spectra.\n",
    "    \n",
    "    spectra -- final spectra of object/lamp without background (1-d array)\n",
    "    lambd_0 -- the wavelengths of the first line of lamp spectra in angstroms \n",
    "    lambd_n -- the wavelengths of the last line of lamp spectra in angstroms\n",
    "    N_0 -- column number of the first line\n",
    "    N_n -- column number of the last line\n",
    "    \"\"\"\n",
    "    dispersion = (lambd_n - lambd_0)/(N_n - N_0)\n",
    "    wavelenght = []\n",
    "    \n",
    "    for i in range(0,len(spectra)):\n",
    "        delta = i - N_0\n",
    "        wl = delta * dispersion #distance in angstrom between a column and first line column\n",
    "        wavelenght.append(lambd_0+wl)\n",
    "        \n",
    "        #PLOT\n",
    "    plt.figure(figsize=(18,9))\n",
    "    plt.plot(wavelenght,spectra)\n",
    "    \n",
    "    return wavelenght,dispersion"
   ]
  },
  {
   "cell_type": "code",
   "execution_count": null,
   "id": "8cac1903-8451-45b7-9b9a-c1bee0c7f1de",
   "metadata": {
    "tags": []
   },
   "outputs": [],
   "source": [
    "index_1,index_2,index_l1,index_l2 = x_axis_to_wavelenght(spectrum_final_lamp1,spectrum_final_lamp2)"
   ]
  },
  {
   "cell_type": "code",
   "execution_count": null,
   "id": "9c3942f7-99e1-465d-afd5-ef2f011762d7",
   "metadata": {},
   "outputs": [],
   "source": [
    "np.array(index_l1)"
   ]
  },
  {
   "cell_type": "code",
   "execution_count": null,
   "id": "974aa11c-4d24-41b6-8a5a-7bd55d4145ce",
   "metadata": {},
   "outputs": [],
   "source": [
    "np.array(index_l2)"
   ]
  },
  {
   "cell_type": "code",
   "execution_count": null,
   "id": "f7243b55-1bed-40fa-9e7e-90243622305f",
   "metadata": {
    "tags": []
   },
   "outputs": [],
   "source": [
    "plt.figure(figsize=(20,6))\n",
    "plt.plot(np.roll(spectrum_final_lamp1,-2),label=\"Лампа 1\")\n",
    "plt.plot(np.roll(spectrum_final_lamp2,2),c=\"g\",label=\"Лампа 2\")\n",
    "plt.xlabel(\"Номер столбца пикселей\")\n",
    "plt.ylabel(\"Интенсивность\")\n",
    "plt.savefig(\"roll_lamps.jpg\")"
   ]
  },
  {
   "cell_type": "code",
   "execution_count": null,
   "id": "57d8a697-15a5-4d92-a8fd-1f0a542cf48f",
   "metadata": {},
   "outputs": [],
   "source": [
    "wavelenght,dispersion = pixel2wavelenght(spectrum_final,lambd_0,lambd_n,index_1,index_2)"
   ]
  },
  {
   "cell_type": "code",
   "execution_count": null,
   "id": "7d5f4562-817f-4325-b62e-5c836d106749",
   "metadata": {},
   "outputs": [],
   "source": [
    "dispersion"
   ]
  },
  {
   "cell_type": "code",
   "execution_count": null,
   "id": "cf58921b-5657-4bb7-8d33-e4c6c6272bcd",
   "metadata": {},
   "outputs": [],
   "source": [
    "def aprx(x,y,order):\n",
    "\n",
    "    # monotone = False\n",
    "        \n",
    "    z = np.polyfit( x,y,order)\n",
    "    p = np.poly1d(z)\n",
    "    xp = np.linspace(x[0], x[-1], 1000)\n",
    "    # print(xp)\n",
    "    pxp = p(xp)\n",
    "\n",
    "    for i in range(1,len(pxp)):\n",
    "        max_pxp = y[:-1].max()\n",
    "        if pxp[i]<=pxp[i-1]:\n",
    "            pxp[i]=pxp[i-1]+1\n",
    "            if pxp[i]>=max_pxp:\n",
    "                min_pxp = pxp[i-100]\n",
    "                delta_pxp = abs((max_pxp - min_pxp)/(len(pxp)-i-1))\n",
    "                index = i-10\n",
    "                break\n",
    "\n",
    "\n",
    "    for j in range(index+1,len(pxp)):\n",
    "        pxp[j]=pxp[j-1]+delta_pxp\n",
    "               \n",
    "    fig, ax1 = plt.subplots(figsize=(6,4),dpi=120)\n",
    "    ax1 = plt.scatter(x,y, color=\"blue\",s=50) \n",
    "    ax1 = plt.plot(xp, p(xp), color=\"orange\",lw=2,label=f\"Полином ({order})\")   \n",
    "    plt.legend()\n",
    "    plt.xlabel(\"Номер столбца пикселей\")\n",
    "    plt.ylabel(\"$\\Delta \\lambda$\")\n",
    "    plt.savefig(\"delta_lamd_polinomial.jpg\")\n",
    "    \n",
    "    return xp,p"
   ]
  },
  {
   "cell_type": "code",
   "execution_count": null,
   "id": "c14edca1-93ac-40cc-947a-7dd7e083c2c0",
   "metadata": {},
   "outputs": [],
   "source": [
    "def func(index_1,index_2,x1,x2,x3,x4,x5,lambd_1,lambd_2,lambd_3,lambd_4,lambd_5,wavelenght):\n",
    "    \n",
    "    delta_lambd_1 = wavelenght[x1] - lambd_1 \n",
    "    delta_lambd_2 = wavelenght[x2] - lambd_2 \n",
    "    delta_lambd_3 = wavelenght[x3] - lambd_3 \n",
    "    delta_lambd_4 = wavelenght[x4] - lambd_4 \n",
    "    delta_lambd_5 = wavelenght[x5] - lambd_5 \n",
    "    \n",
    "    print(wavelenght[x2])\n",
    "    \n",
    "    corr = np.array([0,delta_lambd_1,delta_lambd_2,delta_lambd_3,delta_lambd_4,delta_lambd_5,0]) #0 in the begging and in the end because we exactly know wavelenght of index_1,index_2\n",
    "    \n",
    "    plt.figure(figsize=(6,4), dpi=120)\n",
    "    plt.scatter([index_1,x1,x2,x3,x4,x5,index_2],corr,s=50)\n",
    "    plt.xlabel(\"Номер столбца пикселей\")\n",
    "    plt.ylabel(\"$\\Delta \\lambda$\")\n",
    "    plt.savefig(\"delta_lamd.jpg\")\n",
    "    xpp, polinomial = aprx([index_1,x1,x2,x3,x4,x5,index_2],corr,3)\n",
    "    \n",
    "    columns = np.arange(0,len(wavelenght))\n",
    "    \n",
    "    correction_whole = np.array(polinomial(columns))\n",
    "    \n",
    "    wavelenght_corrected = wavelenght + correction_whole\n",
    "    \n",
    "    return wavelenght_corrected,polinomial"
   ]
  },
  {
   "cell_type": "code",
   "execution_count": null,
   "id": "e6736218-d238-4685-b0cc-6e75fd740352",
   "metadata": {},
   "outputs": [],
   "source": [
    "x1 = int(np.mean([414,410])) \n",
    "x2 = int(np.mean([601,593]))\n",
    "x3 = int(np.mean([733,725]))\n",
    "x4 = int(np.mean([851,842]))\n",
    "x5 = int(np.mean([955,946]))\n",
    "x6 = int(np.mean([1295,1288]))\n",
    "\n",
    "\n",
    "\n",
    "lambd_1 = 6266.5\n",
    "lambd_2 = 6402.25\n",
    "lambd_3 = 6506.59\n",
    "lambd_4 = 6598.95\n",
    "lambd_5 = 6678.28\n",
    "lambd_6 = 6929.47\n",
    "\n",
    "\n",
    "wv,pp = func(index_1,index_2,x1,x2,x3,x4,x5,lambd_1,lambd_2,lambd_3,lambd_4,lambd_5,wavelenght)"
   ]
  },
  {
   "cell_type": "code",
   "execution_count": null,
   "id": "8d4de433-0573-48c2-8534-c30f18f81620",
   "metadata": {},
   "outputs": [],
   "source": [
    "pp(index_1)"
   ]
  },
  {
   "cell_type": "code",
   "execution_count": null,
   "id": "4d214b1f-085d-4eab-950d-5d0e5238f92e",
   "metadata": {
    "tags": []
   },
   "outputs": [],
   "source": [
    "plt.figure(figsize=(9,4),dpi=120)\n",
    "plt.plot(wv,spectrum_final)\n",
    "plt.xlabel(\"Длина волны\")\n",
    "plt.ylabel(\"Интенсивность\")\n",
    "plt.savefig(\"final_spectra.jpg\")"
   ]
  },
  {
   "cell_type": "code",
   "execution_count": null,
   "id": "53adbd43-2b68-4856-a338-6e19d4e86458",
   "metadata": {},
   "outputs": [],
   "source": [
    "np.argmax(spectrum_final)"
   ]
  },
  {
   "cell_type": "code",
   "execution_count": null,
   "id": "5aa665f1-9077-4ee1-96da-8ee9b4e2d030",
   "metadata": {},
   "outputs": [],
   "source": [
    "wv[801] - 6562"
   ]
  }
 ],
 "metadata": {
  "kernelspec": {
   "display_name": "Python 3",
   "language": "python",
   "name": "python3"
  },
  "language_info": {
   "codemirror_mode": {
    "name": "ipython",
    "version": 3
   },
   "file_extension": ".py",
   "mimetype": "text/x-python",
   "name": "python",
   "nbconvert_exporter": "python",
   "pygments_lexer": "ipython3",
   "version": "3.8.8"
  }
 },
 "nbformat": 4,
 "nbformat_minor": 5
}
